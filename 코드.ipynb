{
 "cells": [
  {
   "cell_type": "code",
   "execution_count": 2,
   "metadata": {},
   "outputs": [],
   "source": [
    "\n",
    "import pandas as pd\n",
    "import numpy as np\n",
    "import os\n",
    "from sklearn.model_selection import train_test_split\n",
    "from pathlib import Path\n",
    "from sklearn.metrics import accuracy_score\n",
    "from sklearn.metrics import classification_report\n",
    "import re\n",
    "import base64\n",
    "from urllib import parse"
   ]
  },
  {
   "cell_type": "code",
   "execution_count": 5,
   "metadata": {},
   "outputs": [],
   "source": [
    "# # Data Load\n",
    "df_normal = pd.read_csv('Dataset/Benign_list_big_final.csv')\n",
    "df_deface = pd.read_csv('Dataset/DefacementSitesURLFiltered.csv',encoding='latin-1')\n",
    "df_malware = pd.read_csv('Dataset/Malware_dataset.csv')\n",
    "df_phishing = pd.read_csv('Dataset/phishing_dataset.csv')\n",
    "df_spam = pd.read_csv('Dataset/spam_dataset.csv')"
   ]
  },
  {
   "cell_type": "code",
   "execution_count": 6,
   "metadata": {},
   "outputs": [],
   "source": [
    "df_normal.rename(columns={'Begin URL':'URL'},inplace=True)\n",
    "df_deface.rename(columns={'Defacement URL':'URL'},inplace=True)\n",
    "df_malware.rename(columns={'Malware URL':'URL'},inplace=True)\n",
    "df_phishing.rename(columns={'Phishing URL':'URL'},inplace=True)\n",
    "df_spam.rename(columns={'Spam URL':'URL'},inplace=True)\n"
   ]
  },
  {
   "cell_type": "code",
   "execution_count": 7,
   "metadata": {},
   "outputs": [
    {
     "data": {
      "text/html": [
       "<div>\n",
       "<style scoped>\n",
       "    .dataframe tbody tr th:only-of-type {\n",
       "        vertical-align: middle;\n",
       "    }\n",
       "\n",
       "    .dataframe tbody tr th {\n",
       "        vertical-align: top;\n",
       "    }\n",
       "\n",
       "    .dataframe thead th {\n",
       "        text-align: right;\n",
       "    }\n",
       "</style>\n",
       "<table border=\"1\" class=\"dataframe\">\n",
       "  <thead>\n",
       "    <tr style=\"text-align: right;\">\n",
       "      <th></th>\n",
       "      <th>URL</th>\n",
       "    </tr>\n",
       "  </thead>\n",
       "  <tbody>\n",
       "    <tr>\n",
       "      <th>0</th>\n",
       "      <td>http://astore.amazon.co.uk/allezvinsfrenchr/de...</td>\n",
       "    </tr>\n",
       "    <tr>\n",
       "      <th>1</th>\n",
       "      <td>http://archive.salisburyjournal.co.uk/2007/3/6...</td>\n",
       "    </tr>\n",
       "    <tr>\n",
       "      <th>2</th>\n",
       "      <td>http://appbasic.jettons.co.uk/links/index.html</td>\n",
       "    </tr>\n",
       "    <tr>\n",
       "      <th>3</th>\n",
       "      <td>http://archive.yorkpress.co.uk/2003/11/6/25684...</td>\n",
       "    </tr>\n",
       "    <tr>\n",
       "      <th>4</th>\n",
       "      <td>http://acard4u.co.uk/product_reviews.php?cPath...</td>\n",
       "    </tr>\n",
       "    <tr>\n",
       "      <th>...</th>\n",
       "      <td>...</td>\n",
       "    </tr>\n",
       "    <tr>\n",
       "      <th>11995</th>\n",
       "      <td>http://archive.salisburyjournal.co.uk/2001/3/7/</td>\n",
       "    </tr>\n",
       "    <tr>\n",
       "      <th>11996</th>\n",
       "      <td>http://astore.amazon.co.uk/allezvinsfrenchr/de...</td>\n",
       "    </tr>\n",
       "    <tr>\n",
       "      <th>11997</th>\n",
       "      <td>http://archive.thisischeshire.co.uk/2000/1/14/...</td>\n",
       "    </tr>\n",
       "    <tr>\n",
       "      <th>11998</th>\n",
       "      <td>http://applerugs.co.uk/rugs/product_info.php?p...</td>\n",
       "    </tr>\n",
       "    <tr>\n",
       "      <th>11999</th>\n",
       "      <td>http://allgirltogaparty.co.uk/gallery2/main.ph...</td>\n",
       "    </tr>\n",
       "  </tbody>\n",
       "</table>\n",
       "<p>12000 rows × 1 columns</p>\n",
       "</div>"
      ],
      "text/plain": [
       "                                                     URL\n",
       "0      http://astore.amazon.co.uk/allezvinsfrenchr/de...\n",
       "1      http://archive.salisburyjournal.co.uk/2007/3/6...\n",
       "2         http://appbasic.jettons.co.uk/links/index.html\n",
       "3      http://archive.yorkpress.co.uk/2003/11/6/25684...\n",
       "4      http://acard4u.co.uk/product_reviews.php?cPath...\n",
       "...                                                  ...\n",
       "11995    http://archive.salisburyjournal.co.uk/2001/3/7/\n",
       "11996  http://astore.amazon.co.uk/allezvinsfrenchr/de...\n",
       "11997  http://archive.thisischeshire.co.uk/2000/1/14/...\n",
       "11998  http://applerugs.co.uk/rugs/product_info.php?p...\n",
       "11999  http://allgirltogaparty.co.uk/gallery2/main.ph...\n",
       "\n",
       "[12000 rows x 1 columns]"
      ]
     },
     "execution_count": 7,
     "metadata": {},
     "output_type": "execute_result"
    }
   ],
   "source": [
    "df_spam"
   ]
  },
  {
   "cell_type": "code",
   "execution_count": 12,
   "metadata": {},
   "outputs": [
    {
     "data": {
      "text/plain": [
       "[WindowsPath('Dataset/Benign_list_big_final.csv'),\n",
       " WindowsPath('Dataset/DefacementSitesURLFiltered.csv'),\n",
       " WindowsPath('Dataset/Malware_dataset.csv'),\n",
       " WindowsPath('Dataset/phishing_dataset.csv'),\n",
       " WindowsPath('Dataset/spam_dataset.csv')]"
      ]
     },
     "execution_count": 12,
     "metadata": {},
     "output_type": "execute_result"
    }
   ],
   "source": [
    "# df = sorted([x for x in Path(\"Dataset/\").glob(\"*.csv\")])\n",
    "# df"
   ]
  },
  {
   "cell_type": "markdown",
   "metadata": {},
   "source": [
    "# Normal, Attack(Malware/Phishing/Spam/Defacement) Labeling"
   ]
  },
  {
   "cell_type": "code",
   "execution_count": 8,
   "metadata": {},
   "outputs": [],
   "source": [
    "# Data Label List \n",
    "normal_label_list = []\n",
    "malware_label_list = []\n",
    "deface_label_list = []\n",
    "spam_label_list = []\n",
    "phishing_label_list = []\n",
    "for i in range(len(df_normal)):\n",
    "    normal_label_list.append('Normal')\n",
    "for j in range(len(df_malware)):\n",
    "    malware_label_list.append('Malware')\n",
    "for n in range(len(df_deface)):\n",
    "    deface_label_list.append('Defacement')\n",
    "for m in range(len(df_phishing)):\n",
    "    phishing_label_list.append('Phishing')\n",
    "for k in range(len(df_spam)):\n",
    "    spam_label_list.append('Spam')\n",
    " "
   ]
  },
  {
   "cell_type": "code",
   "execution_count": 9,
   "metadata": {},
   "outputs": [],
   "source": [
    "# Labeling\n",
    "df_normal['Label'] = normal_label_list\n",
    "df_deface['Label'] = deface_label_list\n",
    "df_malware['Label'] = malware_label_list\n",
    "df_spam['Label'] = spam_label_list\n",
    "df_phishing['Label'] = phishing_label_list"
   ]
  },
  {
   "cell_type": "code",
   "execution_count": 27,
   "metadata": {},
   "outputs": [
    {
     "data": {
      "text/html": [
       "<div>\n",
       "<style scoped>\n",
       "    .dataframe tbody tr th:only-of-type {\n",
       "        vertical-align: middle;\n",
       "    }\n",
       "\n",
       "    .dataframe tbody tr th {\n",
       "        vertical-align: top;\n",
       "    }\n",
       "\n",
       "    .dataframe thead th {\n",
       "        text-align: right;\n",
       "    }\n",
       "</style>\n",
       "<table border=\"1\" class=\"dataframe\">\n",
       "  <thead>\n",
       "    <tr style=\"text-align: right;\">\n",
       "      <th></th>\n",
       "      <th>URL</th>\n",
       "      <th>Label</th>\n",
       "    </tr>\n",
       "  </thead>\n",
       "  <tbody>\n",
       "    <tr>\n",
       "      <th>0</th>\n",
       "      <td>http://1337x.to/torrent/1048648/American-Snipe...</td>\n",
       "      <td>Normal</td>\n",
       "    </tr>\n",
       "    <tr>\n",
       "      <th>1</th>\n",
       "      <td>http://1337x.to/torrent/1110018/Blackhat-2015-...</td>\n",
       "      <td>Normal</td>\n",
       "    </tr>\n",
       "    <tr>\n",
       "      <th>2</th>\n",
       "      <td>http://1337x.to/torrent/1122940/Blackhat-2015-...</td>\n",
       "      <td>Normal</td>\n",
       "    </tr>\n",
       "    <tr>\n",
       "      <th>3</th>\n",
       "      <td>http://1337x.to/torrent/1124395/Fast-and-Furio...</td>\n",
       "      <td>Normal</td>\n",
       "    </tr>\n",
       "    <tr>\n",
       "      <th>4</th>\n",
       "      <td>http://1337x.to/torrent/1145504/Avengers-Age-o...</td>\n",
       "      <td>Normal</td>\n",
       "    </tr>\n",
       "    <tr>\n",
       "      <th>...</th>\n",
       "      <td>...</td>\n",
       "      <td>...</td>\n",
       "    </tr>\n",
       "    <tr>\n",
       "      <th>11995</th>\n",
       "      <td>http://archive.salisburyjournal.co.uk/2001/3/7/</td>\n",
       "      <td>Spam</td>\n",
       "    </tr>\n",
       "    <tr>\n",
       "      <th>11996</th>\n",
       "      <td>http://astore.amazon.co.uk/allezvinsfrenchr/de...</td>\n",
       "      <td>Spam</td>\n",
       "    </tr>\n",
       "    <tr>\n",
       "      <th>11997</th>\n",
       "      <td>http://archive.thisischeshire.co.uk/2000/1/14/...</td>\n",
       "      <td>Spam</td>\n",
       "    </tr>\n",
       "    <tr>\n",
       "      <th>11998</th>\n",
       "      <td>http://applerugs.co.uk/rugs/product_info.php?p...</td>\n",
       "      <td>Spam</td>\n",
       "    </tr>\n",
       "    <tr>\n",
       "      <th>11999</th>\n",
       "      <td>http://allgirltogaparty.co.uk/gallery2/main.ph...</td>\n",
       "      <td>Spam</td>\n",
       "    </tr>\n",
       "  </tbody>\n",
       "</table>\n",
       "<p>165364 rows × 2 columns</p>\n",
       "</div>"
      ],
      "text/plain": [
       "                                                     URL   Label\n",
       "0      http://1337x.to/torrent/1048648/American-Snipe...  Normal\n",
       "1      http://1337x.to/torrent/1110018/Blackhat-2015-...  Normal\n",
       "2      http://1337x.to/torrent/1122940/Blackhat-2015-...  Normal\n",
       "3      http://1337x.to/torrent/1124395/Fast-and-Furio...  Normal\n",
       "4      http://1337x.to/torrent/1145504/Avengers-Age-o...  Normal\n",
       "...                                                  ...     ...\n",
       "11995    http://archive.salisburyjournal.co.uk/2001/3/7/    Spam\n",
       "11996  http://astore.amazon.co.uk/allezvinsfrenchr/de...    Spam\n",
       "11997  http://archive.thisischeshire.co.uk/2000/1/14/...    Spam\n",
       "11998  http://applerugs.co.uk/rugs/product_info.php?p...    Spam\n",
       "11999  http://allgirltogaparty.co.uk/gallery2/main.ph...    Spam\n",
       "\n",
       "[165364 rows x 2 columns]"
      ]
     },
     "execution_count": 27,
     "metadata": {},
     "output_type": "execute_result"
    }
   ],
   "source": [
    "# 5개 data concat\n",
    "df_total = pd.concat([df_normal, df_deface, df_malware, df_phishing, df_spam],axis=0)\n",
    "df_total"
   ]
  },
  {
   "cell_type": "markdown",
   "metadata": {},
   "source": [
    "# URL Decode"
   ]
  },
  {
   "cell_type": "code",
   "execution_count": 33,
   "metadata": {},
   "outputs": [],
   "source": [
    "url_decode_data =df_total['URL']\n",
    "url_decode_list = list(df_total['URL'])"
   ]
  },
  {
   "cell_type": "code",
   "execution_count": 34,
   "metadata": {},
   "outputs": [],
   "source": [
    "def Decode(decode_text):\n",
    "    decode_text = parse.unquote(decode_text)\n",
    "    return decode_text"
   ]
  },
  {
   "cell_type": "code",
   "execution_count": 35,
   "metadata": {},
   "outputs": [],
   "source": [
    "decode_res = []\n",
    "for j in range(len(url_decode_list)):\n",
    "    decode_res.append(Decode(url_decode_list[j]))"
   ]
  },
  {
   "cell_type": "code",
   "execution_count": 36,
   "metadata": {},
   "outputs": [
    {
     "data": {
      "text/html": [
       "<div>\n",
       "<style scoped>\n",
       "    .dataframe tbody tr th:only-of-type {\n",
       "        vertical-align: middle;\n",
       "    }\n",
       "\n",
       "    .dataframe tbody tr th {\n",
       "        vertical-align: top;\n",
       "    }\n",
       "\n",
       "    .dataframe thead th {\n",
       "        text-align: right;\n",
       "    }\n",
       "</style>\n",
       "<table border=\"1\" class=\"dataframe\">\n",
       "  <thead>\n",
       "    <tr style=\"text-align: right;\">\n",
       "      <th></th>\n",
       "      <th>URL</th>\n",
       "    </tr>\n",
       "  </thead>\n",
       "  <tbody>\n",
       "    <tr>\n",
       "      <th>0</th>\n",
       "      <td>http://1337x.to/torrent/1048648/American-Snipe...</td>\n",
       "    </tr>\n",
       "    <tr>\n",
       "      <th>1</th>\n",
       "      <td>http://1337x.to/torrent/1110018/Blackhat-2015-...</td>\n",
       "    </tr>\n",
       "    <tr>\n",
       "      <th>2</th>\n",
       "      <td>http://1337x.to/torrent/1122940/Blackhat-2015-...</td>\n",
       "    </tr>\n",
       "    <tr>\n",
       "      <th>3</th>\n",
       "      <td>http://1337x.to/torrent/1124395/Fast-and-Furio...</td>\n",
       "    </tr>\n",
       "    <tr>\n",
       "      <th>4</th>\n",
       "      <td>http://1337x.to/torrent/1145504/Avengers-Age-o...</td>\n",
       "    </tr>\n",
       "    <tr>\n",
       "      <th>...</th>\n",
       "      <td>...</td>\n",
       "    </tr>\n",
       "    <tr>\n",
       "      <th>165359</th>\n",
       "      <td>http://archive.salisburyjournal.co.uk/2001/3/7/</td>\n",
       "    </tr>\n",
       "    <tr>\n",
       "      <th>165360</th>\n",
       "      <td>http://astore.amazon.co.uk/allezvinsfrenchr/de...</td>\n",
       "    </tr>\n",
       "    <tr>\n",
       "      <th>165361</th>\n",
       "      <td>http://archive.thisischeshire.co.uk/2000/1/14/...</td>\n",
       "    </tr>\n",
       "    <tr>\n",
       "      <th>165362</th>\n",
       "      <td>http://applerugs.co.uk/rugs/product_info.php?p...</td>\n",
       "    </tr>\n",
       "    <tr>\n",
       "      <th>165363</th>\n",
       "      <td>http://allgirltogaparty.co.uk/gallery2/main.ph...</td>\n",
       "    </tr>\n",
       "  </tbody>\n",
       "</table>\n",
       "<p>165364 rows × 1 columns</p>\n",
       "</div>"
      ],
      "text/plain": [
       "                                                      URL\n",
       "0       http://1337x.to/torrent/1048648/American-Snipe...\n",
       "1       http://1337x.to/torrent/1110018/Blackhat-2015-...\n",
       "2       http://1337x.to/torrent/1122940/Blackhat-2015-...\n",
       "3       http://1337x.to/torrent/1124395/Fast-and-Furio...\n",
       "4       http://1337x.to/torrent/1145504/Avengers-Age-o...\n",
       "...                                                   ...\n",
       "165359    http://archive.salisburyjournal.co.uk/2001/3/7/\n",
       "165360  http://astore.amazon.co.uk/allezvinsfrenchr/de...\n",
       "165361  http://archive.thisischeshire.co.uk/2000/1/14/...\n",
       "165362  http://applerugs.co.uk/rugs/product_info.php?p...\n",
       "165363  http://allgirltogaparty.co.uk/gallery2/main.ph...\n",
       "\n",
       "[165364 rows x 1 columns]"
      ]
     },
     "execution_count": 36,
     "metadata": {},
     "output_type": "execute_result"
    }
   ],
   "source": [
    "Decode_res = pd.DataFrame(decode_res, columns=['URL'])\n",
    "\n",
    "Decode_res"
   ]
  },
  {
   "cell_type": "code",
   "execution_count": 59,
   "metadata": {},
   "outputs": [],
   "source": [
    "# save URL total csv\n",
    "# df_total.to_csv('Output/Total_URL.csv',index=False)"
   ]
  },
  {
   "cell_type": "code",
   "execution_count": 37,
   "metadata": {},
   "outputs": [
    {
     "data": {
      "text/plain": [
       "11566"
      ]
     },
     "execution_count": 37,
     "metadata": {},
     "output_type": "execute_result"
    }
   ],
   "source": [
    "len(df_malware)"
   ]
  },
  {
   "cell_type": "code",
   "execution_count": 38,
   "metadata": {},
   "outputs": [],
   "source": [
    "normal_ratio = len(df_normal) / len(df_total)\n",
    "malware_ratio = len(df_malware) / len(df_total)\n",
    "defacement_ratio = len(df_deface) / len(df_total)\n",
    "spam_ratio = len(df_spam) / len(df_total)\n",
    "phishing_ratio = len(df_phishing) / len(df_total)\n"
   ]
  },
  {
   "cell_type": "code",
   "execution_count": 39,
   "metadata": {},
   "outputs": [
    {
     "name": "stdout",
     "output_type": "stream",
     "text": [
      "Normal :  0.2139401562613386\n",
      "Malware :  0.06994267192375608\n",
      "Defacement :  0.5832889867202051\n",
      "Spam :  0.07256718511888924\n",
      "Phishing :  0.06026099997581094\n"
     ]
    }
   ],
   "source": [
    "print(\"Normal : \",normal_ratio)\n",
    "print(\"Malware : \",malware_ratio)\n",
    "print(\"Defacement : \",defacement_ratio)\n",
    "print(\"Spam : \",spam_ratio)\n",
    "print(\"Phishing : \",phishing_ratio)"
   ]
  },
  {
   "cell_type": "code",
   "execution_count": 40,
   "metadata": {},
   "outputs": [],
   "source": [
    "# df_total -> df_url\n",
    "# 아래부터는 Using df_url dataset \n",
    "df_url = df_total"
   ]
  },
  {
   "cell_type": "markdown",
   "metadata": {},
   "source": [
    "# URL Lexical Featuring을 하기위한 split작업"
   ]
  },
  {
   "cell_type": "code",
   "execution_count": 42,
   "metadata": {},
   "outputs": [],
   "source": [
    "import re\n",
    "from urllib.parse import urlparse\n",
    "import numpy as np\n",
    "\n",
    "## URL내에서 Host 부분 추출\n",
    "def URL_Host(url):\n",
    "    url_0 = url\n",
    "    if 'http' in url_0.split('.')[0]:\n",
    "        proto = url_0.split('://')[0]\n",
    "        del_proto = proto +'://'\n",
    "        url_0 = url_0.replace(del_proto,'')\n",
    "        if '/' in url_0:\n",
    "            host = url_0.split('/')[0]\n",
    "        else:\n",
    "            host = url_0\n",
    "    else:\n",
    "        if '/' in url_0:\n",
    "            host = url_0.split('/')[0]\n",
    "        else:\n",
    "            host = url_0\n",
    "    return host"
   ]
  },
  {
   "cell_type": "code",
   "execution_count": 43,
   "metadata": {},
   "outputs": [],
   "source": [
    "## URL내에서 Path 부분 추출\n",
    "\n",
    "def URL_Path(url):\n",
    "    url_0 = url\n",
    "    if 'http' in url_0.split('.')[0]:\n",
    "        proto = url_0.split('://')[0]\n",
    "        del_proto = proto +'://'\n",
    "        url_0 = url_0.replace(del_proto,'')\n",
    "        if '?' in url_0:\n",
    "            url_1 = url_0.split('?')[0]\n",
    "            host = url_1.split('/')[0]\n",
    "            path = url_1.replace(host, '')\n",
    "        else:\n",
    "            url_1 = url_0\n",
    "            if '#' in url_1:\n",
    "                url_1 = url_0.split('#')[0]\n",
    "                host = url_1.split('/')[0]\n",
    "                path = url_1.replace(host, '')\n",
    "            else:\n",
    "                url_1 = url_0\n",
    "                host = url_1.split('/')[0]\n",
    "                path = url_1.replace(host, '')\n",
    "    else:\n",
    "        if '?' in url_0:\n",
    "            url_1 = url_0.split('?')[0]\n",
    "            host = url_1.split('/')[0]\n",
    "            path = url_1.replace(host, '')\n",
    "        else:\n",
    "            url_1 = url_0\n",
    "            if '#' in url_1:\n",
    "                url_1 = url_0.split('#')[0]\n",
    "                host = url_1.split('/')[0]\n",
    "                path = url_1.replace(host, '')\n",
    "            else:\n",
    "                url_1 = url_0\n",
    "                host = url_1.split('/')[0]\n",
    "                path = url_1.replace(host, '')\n",
    "    return path"
   ]
  },
  {
   "cell_type": "code",
   "execution_count": 44,
   "metadata": {},
   "outputs": [],
   "source": [
    "## URL내에서 query 부분 추출\n",
    "\n",
    "def URL_Query(url):\n",
    "    url_0 = url\n",
    "    if 'http' in url_0.split('.')[0]:\n",
    "        proto = url_0.split('://')[0]\n",
    "        del_proto = proto +'://'\n",
    "        url_0 = url_0.replace(del_proto,'')\n",
    "        if '?' in url_0:\n",
    "            host = url_0.split('/')[0]\n",
    "            url_1 = url_0.replace(host, '')\n",
    "            if '#' in url_1:\n",
    "                url_2 = url_1.split('#')[0]\n",
    "                path = url_2.split('?')[0]\n",
    "                url_2 = url_2.replace(path, '')\n",
    "                query = url_2.split('?')[-1]\n",
    "            else:\n",
    "                url_2 = url_1\n",
    "                path = url_2.split('?')[0]\n",
    "                url_2 = url_2.replace(path, '')\n",
    "                query = url_2.split('?')[-1]\n",
    "        else:\n",
    "            query = ''\n",
    "\n",
    "    else:\n",
    "        if '?' in url_0:\n",
    "            host = url_0.split('/')[0]\n",
    "            url_1 = url_0.replace(host, '')\n",
    "            if '#' in url_1:\n",
    "                url_2 = url_1.split('#')[0]\n",
    "                path = url_2.split('?')[0]\n",
    "                url_2 = url_2.replace(path, '')\n",
    "                query = url_2.split('?')[-1]\n",
    "            else:\n",
    "                url_2 = url_1\n",
    "                path = url_2.split('?')[0]\n",
    "                url_2 = url_2.replace(path, '')\n",
    "                query = url_2.split('?')[-1]\n",
    "        else:\n",
    "            query = ''\n",
    "    return query"
   ]
  },
  {
   "cell_type": "code",
   "execution_count": 45,
   "metadata": {},
   "outputs": [],
   "source": [
    "df_featuring = pd.DataFrame()"
   ]
  },
  {
   "cell_type": "markdown",
   "metadata": {},
   "source": [
    "# Featuring\n",
    "### 사용할 feature들 리스트 만든 후 각각 featuring 진행(총 10개 사용)"
   ]
  },
  {
   "cell_type": "code",
   "execution_count": 46,
   "metadata": {},
   "outputs": [],
   "source": [
    "\n",
    "dot_list = []\n",
    "slash_list = []\n",
    "ampersand_list = []\n",
    "dash_list = []\n",
    "space_list = []\n",
    "doubleslash_list = []\n",
    "Hash_list = []\n",
    "len_host = []\n",
    "len_path = []\n",
    "len_query = []\n",
    "\n",
    "\n",
    "\n",
    "for f in df_url['URL']:\n",
    "    parts = urlparse(f)\n",
    "    dot_list.append(f.count('.') + f.count('%2E'))    \n",
    "    slash_list.append(f.count('/') + f.count('%2F'))\n",
    "    ampersand_list.append(f.count('&') + f.count('%26'))\n",
    "    dash_list.append(f.count('-') + f.count('%2D'))\n",
    "    space_list.append(f.count(' ') + f.count('%20'))\n",
    "    doubleslash_list.append(f.count('://'))\n",
    "    Hash_list.append(1 if f.count('#') else 0)\n",
    "    len_host.append(len(URL_Host(f))) # 추출된 url 호스트 length return\n",
    "    len_path.append(len(URL_Path(f))) #추출된 path length\n",
    "    len_query.append(len(URL_Query(f))) # 추출된 query length\n",
    "\n",
    "\n",
    "# -------------------------------------------\n",
    "\n",
    "# 총 10개 Feature사용\n",
    "df_featuring['num_dot'] = dot_list\n",
    "df_featuring['num_slash'] = slash_list\n",
    "df_featuring['num_ampersand'] = ampersand_list\n",
    "df_featuring['num_dash'] = dash_list\n",
    "df_featuring['num_space'] = space_list\n",
    "df_featuring['num_doubleslash'] = doubleslash_list\n",
    "df_featuring['HashInURL'] = Hash_list\n",
    "df_featuring['len_host'] = len_host\n",
    "df_featuring['len_path'] = len_path\n",
    "df_featuring['len_query'] = len_query\n"
   ]
  },
  {
   "cell_type": "code",
   "execution_count": 93,
   "metadata": {},
   "outputs": [],
   "source": [
    "# Lexical Featuring Total save csv\n",
    "# df_featuring.to_csv('URL_Feautring.csv',index=False)"
   ]
  },
  {
   "cell_type": "code",
   "execution_count": 47,
   "metadata": {},
   "outputs": [
    {
     "data": {
      "text/html": [
       "<div>\n",
       "<style scoped>\n",
       "    .dataframe tbody tr th:only-of-type {\n",
       "        vertical-align: middle;\n",
       "    }\n",
       "\n",
       "    .dataframe tbody tr th {\n",
       "        vertical-align: top;\n",
       "    }\n",
       "\n",
       "    .dataframe thead th {\n",
       "        text-align: right;\n",
       "    }\n",
       "</style>\n",
       "<table border=\"1\" class=\"dataframe\">\n",
       "  <thead>\n",
       "    <tr style=\"text-align: right;\">\n",
       "      <th></th>\n",
       "      <th>num_dot</th>\n",
       "      <th>num_slash</th>\n",
       "      <th>num_ampersand</th>\n",
       "      <th>num_dash</th>\n",
       "      <th>num_space</th>\n",
       "      <th>num_doubleslash</th>\n",
       "      <th>HashInURL</th>\n",
       "      <th>len_host</th>\n",
       "      <th>len_path</th>\n",
       "      <th>len_query</th>\n",
       "    </tr>\n",
       "  </thead>\n",
       "  <tbody>\n",
       "    <tr>\n",
       "      <th>0</th>\n",
       "      <td>1</td>\n",
       "      <td>6</td>\n",
       "      <td>0</td>\n",
       "      <td>8</td>\n",
       "      <td>0</td>\n",
       "      <td>1</td>\n",
       "      <td>0</td>\n",
       "      <td>8</td>\n",
       "      <td>68</td>\n",
       "      <td>0</td>\n",
       "    </tr>\n",
       "    <tr>\n",
       "      <th>1</th>\n",
       "      <td>1</td>\n",
       "      <td>6</td>\n",
       "      <td>0</td>\n",
       "      <td>9</td>\n",
       "      <td>0</td>\n",
       "      <td>1</td>\n",
       "      <td>0</td>\n",
       "      <td>8</td>\n",
       "      <td>68</td>\n",
       "      <td>0</td>\n",
       "    </tr>\n",
       "    <tr>\n",
       "      <th>2</th>\n",
       "      <td>1</td>\n",
       "      <td>6</td>\n",
       "      <td>0</td>\n",
       "      <td>9</td>\n",
       "      <td>0</td>\n",
       "      <td>1</td>\n",
       "      <td>0</td>\n",
       "      <td>8</td>\n",
       "      <td>68</td>\n",
       "      <td>0</td>\n",
       "    </tr>\n",
       "    <tr>\n",
       "      <th>3</th>\n",
       "      <td>1</td>\n",
       "      <td>6</td>\n",
       "      <td>0</td>\n",
       "      <td>11</td>\n",
       "      <td>0</td>\n",
       "      <td>1</td>\n",
       "      <td>0</td>\n",
       "      <td>8</td>\n",
       "      <td>68</td>\n",
       "      <td>0</td>\n",
       "    </tr>\n",
       "    <tr>\n",
       "      <th>4</th>\n",
       "      <td>1</td>\n",
       "      <td>6</td>\n",
       "      <td>0</td>\n",
       "      <td>9</td>\n",
       "      <td>0</td>\n",
       "      <td>1</td>\n",
       "      <td>0</td>\n",
       "      <td>8</td>\n",
       "      <td>68</td>\n",
       "      <td>0</td>\n",
       "    </tr>\n",
       "    <tr>\n",
       "      <th>...</th>\n",
       "      <td>...</td>\n",
       "      <td>...</td>\n",
       "      <td>...</td>\n",
       "      <td>...</td>\n",
       "      <td>...</td>\n",
       "      <td>...</td>\n",
       "      <td>...</td>\n",
       "      <td>...</td>\n",
       "      <td>...</td>\n",
       "      <td>...</td>\n",
       "    </tr>\n",
       "    <tr>\n",
       "      <th>165359</th>\n",
       "      <td>3</td>\n",
       "      <td>6</td>\n",
       "      <td>0</td>\n",
       "      <td>0</td>\n",
       "      <td>0</td>\n",
       "      <td>1</td>\n",
       "      <td>0</td>\n",
       "      <td>30</td>\n",
       "      <td>10</td>\n",
       "      <td>0</td>\n",
       "    </tr>\n",
       "    <tr>\n",
       "      <th>165360</th>\n",
       "      <td>3</td>\n",
       "      <td>6</td>\n",
       "      <td>0</td>\n",
       "      <td>2</td>\n",
       "      <td>0</td>\n",
       "      <td>1</td>\n",
       "      <td>0</td>\n",
       "      <td>19</td>\n",
       "      <td>55</td>\n",
       "      <td>0</td>\n",
       "    </tr>\n",
       "    <tr>\n",
       "      <th>165361</th>\n",
       "      <td>4</td>\n",
       "      <td>6</td>\n",
       "      <td>0</td>\n",
       "      <td>0</td>\n",
       "      <td>0</td>\n",
       "      <td>1</td>\n",
       "      <td>0</td>\n",
       "      <td>28</td>\n",
       "      <td>22</td>\n",
       "      <td>0</td>\n",
       "    </tr>\n",
       "    <tr>\n",
       "      <th>165362</th>\n",
       "      <td>3</td>\n",
       "      <td>4</td>\n",
       "      <td>1</td>\n",
       "      <td>0</td>\n",
       "      <td>0</td>\n",
       "      <td>1</td>\n",
       "      <td>0</td>\n",
       "      <td>15</td>\n",
       "      <td>22</td>\n",
       "      <td>7</td>\n",
       "    </tr>\n",
       "    <tr>\n",
       "      <th>165363</th>\n",
       "      <td>6</td>\n",
       "      <td>12</td>\n",
       "      <td>2</td>\n",
       "      <td>0</td>\n",
       "      <td>0</td>\n",
       "      <td>1</td>\n",
       "      <td>0</td>\n",
       "      <td>22</td>\n",
       "      <td>33</td>\n",
       "      <td>113</td>\n",
       "    </tr>\n",
       "  </tbody>\n",
       "</table>\n",
       "<p>165364 rows × 10 columns</p>\n",
       "</div>"
      ],
      "text/plain": [
       "        num_dot  num_slash  num_ampersand  num_dash  num_space  \\\n",
       "0             1          6              0         8          0   \n",
       "1             1          6              0         9          0   \n",
       "2             1          6              0         9          0   \n",
       "3             1          6              0        11          0   \n",
       "4             1          6              0         9          0   \n",
       "...         ...        ...            ...       ...        ...   \n",
       "165359        3          6              0         0          0   \n",
       "165360        3          6              0         2          0   \n",
       "165361        4          6              0         0          0   \n",
       "165362        3          4              1         0          0   \n",
       "165363        6         12              2         0          0   \n",
       "\n",
       "        num_doubleslash  HashInURL  len_host  len_path  len_query  \n",
       "0                     1          0         8        68          0  \n",
       "1                     1          0         8        68          0  \n",
       "2                     1          0         8        68          0  \n",
       "3                     1          0         8        68          0  \n",
       "4                     1          0         8        68          0  \n",
       "...                 ...        ...       ...       ...        ...  \n",
       "165359                1          0        30        10          0  \n",
       "165360                1          0        19        55          0  \n",
       "165361                1          0        28        22          0  \n",
       "165362                1          0        15        22          7  \n",
       "165363                1          0        22        33        113  \n",
       "\n",
       "[165364 rows x 10 columns]"
      ]
     },
     "execution_count": 47,
     "metadata": {},
     "output_type": "execute_result"
    }
   ],
   "source": [
    "df_featuring ## featuring restul"
   ]
  },
  {
   "cell_type": "markdown",
   "metadata": {},
   "source": [
    "# Min-Max Scaling"
   ]
  },
  {
   "cell_type": "code",
   "execution_count": 48,
   "metadata": {},
   "outputs": [],
   "source": [
    "from sklearn.preprocessing import MinMaxScaler\n",
    "from sklearn.pipeline import Pipeline\n",
    "scaler = Pipeline([('scaler', MinMaxScaler())])\n",
    "scaled_df = scaler.fit_transform(df_featuring)\n",
    "\n"
   ]
  },
  {
   "cell_type": "markdown",
   "metadata": {},
   "source": [
    "# Train/ Test Split"
   ]
  },
  {
   "cell_type": "code",
   "execution_count": 49,
   "metadata": {},
   "outputs": [],
   "source": [
    "df_url['Label'] = df_url['Label'].replace({'Normal':0, 'Defacement':1,'Phishing':2,'Malware':3,'Spam':4})\n",
    "target = df_url['Label'].tolist()"
   ]
  },
  {
   "cell_type": "code",
   "execution_count": 50,
   "metadata": {},
   "outputs": [
    {
     "data": {
      "text/plain": [
       "Label\n",
       "1    96455\n",
       "0    35378\n",
       "4    12000\n",
       "3    11566\n",
       "2     9965\n",
       "Name: count, dtype: int64"
      ]
     },
     "execution_count": 50,
     "metadata": {},
     "output_type": "execute_result"
    }
   ],
   "source": [
    "df_url['Label'].value_counts()"
   ]
  },
  {
   "cell_type": "code",
   "execution_count": null,
   "metadata": {},
   "outputs": [],
   "source": [
    "# a = df_url[df_url['Label'].isin([0])]\n",
    "# a"
   ]
  },
  {
   "cell_type": "code",
   "execution_count": 57,
   "metadata": {},
   "outputs": [],
   "source": [
    "X_train, X_test, y_train, y_test = train_test_split(scaled_df,target, test_size=0.3, stratify=target, random_state=21)"
   ]
  },
  {
   "cell_type": "code",
   "execution_count": 67,
   "metadata": {},
   "outputs": [
    {
     "data": {
      "text/plain": [
       "115754"
      ]
     },
     "execution_count": 67,
     "metadata": {},
     "output_type": "execute_result"
    }
   ],
   "source": [
    "len(X_train)"
   ]
  },
  {
   "cell_type": "code",
   "execution_count": 68,
   "metadata": {},
   "outputs": [
    {
     "data": {
      "text/plain": [
       "49610"
      ]
     },
     "execution_count": 68,
     "metadata": {},
     "output_type": "execute_result"
    }
   ],
   "source": [
    "len(X_test)"
   ]
  },
  {
   "cell_type": "code",
   "execution_count": 59,
   "metadata": {},
   "outputs": [
    {
     "data": {
      "text/html": [
       "<style>#sk-container-id-2 {color: black;}#sk-container-id-2 pre{padding: 0;}#sk-container-id-2 div.sk-toggleable {background-color: white;}#sk-container-id-2 label.sk-toggleable__label {cursor: pointer;display: block;width: 100%;margin-bottom: 0;padding: 0.3em;box-sizing: border-box;text-align: center;}#sk-container-id-2 label.sk-toggleable__label-arrow:before {content: \"▸\";float: left;margin-right: 0.25em;color: #696969;}#sk-container-id-2 label.sk-toggleable__label-arrow:hover:before {color: black;}#sk-container-id-2 div.sk-estimator:hover label.sk-toggleable__label-arrow:before {color: black;}#sk-container-id-2 div.sk-toggleable__content {max-height: 0;max-width: 0;overflow: hidden;text-align: left;background-color: #f0f8ff;}#sk-container-id-2 div.sk-toggleable__content pre {margin: 0.2em;color: black;border-radius: 0.25em;background-color: #f0f8ff;}#sk-container-id-2 input.sk-toggleable__control:checked~div.sk-toggleable__content {max-height: 200px;max-width: 100%;overflow: auto;}#sk-container-id-2 input.sk-toggleable__control:checked~label.sk-toggleable__label-arrow:before {content: \"▾\";}#sk-container-id-2 div.sk-estimator input.sk-toggleable__control:checked~label.sk-toggleable__label {background-color: #d4ebff;}#sk-container-id-2 div.sk-label input.sk-toggleable__control:checked~label.sk-toggleable__label {background-color: #d4ebff;}#sk-container-id-2 input.sk-hidden--visually {border: 0;clip: rect(1px 1px 1px 1px);clip: rect(1px, 1px, 1px, 1px);height: 1px;margin: -1px;overflow: hidden;padding: 0;position: absolute;width: 1px;}#sk-container-id-2 div.sk-estimator {font-family: monospace;background-color: #f0f8ff;border: 1px dotted black;border-radius: 0.25em;box-sizing: border-box;margin-bottom: 0.5em;}#sk-container-id-2 div.sk-estimator:hover {background-color: #d4ebff;}#sk-container-id-2 div.sk-parallel-item::after {content: \"\";width: 100%;border-bottom: 1px solid gray;flex-grow: 1;}#sk-container-id-2 div.sk-label:hover label.sk-toggleable__label {background-color: #d4ebff;}#sk-container-id-2 div.sk-serial::before {content: \"\";position: absolute;border-left: 1px solid gray;box-sizing: border-box;top: 0;bottom: 0;left: 50%;z-index: 0;}#sk-container-id-2 div.sk-serial {display: flex;flex-direction: column;align-items: center;background-color: white;padding-right: 0.2em;padding-left: 0.2em;position: relative;}#sk-container-id-2 div.sk-item {position: relative;z-index: 1;}#sk-container-id-2 div.sk-parallel {display: flex;align-items: stretch;justify-content: center;background-color: white;position: relative;}#sk-container-id-2 div.sk-item::before, #sk-container-id-2 div.sk-parallel-item::before {content: \"\";position: absolute;border-left: 1px solid gray;box-sizing: border-box;top: 0;bottom: 0;left: 50%;z-index: -1;}#sk-container-id-2 div.sk-parallel-item {display: flex;flex-direction: column;z-index: 1;position: relative;background-color: white;}#sk-container-id-2 div.sk-parallel-item:first-child::after {align-self: flex-end;width: 50%;}#sk-container-id-2 div.sk-parallel-item:last-child::after {align-self: flex-start;width: 50%;}#sk-container-id-2 div.sk-parallel-item:only-child::after {width: 0;}#sk-container-id-2 div.sk-dashed-wrapped {border: 1px dashed gray;margin: 0 0.4em 0.5em 0.4em;box-sizing: border-box;padding-bottom: 0.4em;background-color: white;}#sk-container-id-2 div.sk-label label {font-family: monospace;font-weight: bold;display: inline-block;line-height: 1.2em;}#sk-container-id-2 div.sk-label-container {text-align: center;}#sk-container-id-2 div.sk-container {/* jupyter's `normalize.less` sets `[hidden] { display: none; }` but bootstrap.min.css set `[hidden] { display: none !important; }` so we also need the `!important` here to be able to override the default hidden behavior on the sphinx rendered scikit-learn.org. See: https://github.com/scikit-learn/scikit-learn/issues/21755 */display: inline-block !important;position: relative;}#sk-container-id-2 div.sk-text-repr-fallback {display: none;}</style><div id=\"sk-container-id-2\" class=\"sk-top-container\"><div class=\"sk-text-repr-fallback\"><pre>XGBClassifier(base_score=None, booster=&#x27;gbtree&#x27;, callbacks=None,\n",
       "              colsample_bylevel=None, colsample_bynode=None,\n",
       "              colsample_bytree=None, device=None, early_stopping_rounds=None,\n",
       "              enable_categorical=False, eval_metric=&#x27;merror&#x27;,\n",
       "              feature_types=None, gamma=None, grow_policy=None,\n",
       "              importance_type=None, interaction_constraints=None,\n",
       "              learning_rate=None, max_bin=None, max_cat_threshold=None,\n",
       "              max_cat_to_onehot=None, max_delta_step=None, max_depth=3,\n",
       "              max_leaves=None, min_child_weight=None, missing=nan,\n",
       "              monotone_constraints=None, multi_strategy=None, n_estimators=None,\n",
       "              n_jobs=None, num_class=4, num_parallel_tree=None, ...)</pre><b>In a Jupyter environment, please rerun this cell to show the HTML representation or trust the notebook. <br />On GitHub, the HTML representation is unable to render, please try loading this page with nbviewer.org.</b></div><div class=\"sk-container\" hidden><div class=\"sk-item\"><div class=\"sk-estimator sk-toggleable\"><input class=\"sk-toggleable__control sk-hidden--visually\" id=\"sk-estimator-id-2\" type=\"checkbox\" checked><label for=\"sk-estimator-id-2\" class=\"sk-toggleable__label sk-toggleable__label-arrow\">XGBClassifier</label><div class=\"sk-toggleable__content\"><pre>XGBClassifier(base_score=None, booster=&#x27;gbtree&#x27;, callbacks=None,\n",
       "              colsample_bylevel=None, colsample_bynode=None,\n",
       "              colsample_bytree=None, device=None, early_stopping_rounds=None,\n",
       "              enable_categorical=False, eval_metric=&#x27;merror&#x27;,\n",
       "              feature_types=None, gamma=None, grow_policy=None,\n",
       "              importance_type=None, interaction_constraints=None,\n",
       "              learning_rate=None, max_bin=None, max_cat_threshold=None,\n",
       "              max_cat_to_onehot=None, max_delta_step=None, max_depth=3,\n",
       "              max_leaves=None, min_child_weight=None, missing=nan,\n",
       "              monotone_constraints=None, multi_strategy=None, n_estimators=None,\n",
       "              n_jobs=None, num_class=4, num_parallel_tree=None, ...)</pre></div></div></div></div></div>"
      ],
      "text/plain": [
       "XGBClassifier(base_score=None, booster='gbtree', callbacks=None,\n",
       "              colsample_bylevel=None, colsample_bynode=None,\n",
       "              colsample_bytree=None, device=None, early_stopping_rounds=None,\n",
       "              enable_categorical=False, eval_metric='merror',\n",
       "              feature_types=None, gamma=None, grow_policy=None,\n",
       "              importance_type=None, interaction_constraints=None,\n",
       "              learning_rate=None, max_bin=None, max_cat_threshold=None,\n",
       "              max_cat_to_onehot=None, max_delta_step=None, max_depth=3,\n",
       "              max_leaves=None, min_child_weight=None, missing=nan,\n",
       "              monotone_constraints=None, multi_strategy=None, n_estimators=None,\n",
       "              n_jobs=None, num_class=4, num_parallel_tree=None, ...)"
      ]
     },
     "execution_count": 59,
     "metadata": {},
     "output_type": "execute_result"
    }
   ],
   "source": [
    "# XGBoost Model\n",
    "import xgboost as xgb\n",
    "import pickle\n",
    "\n",
    "model = xgb.XGBClassifier(\n",
    "    booster='gbtree',\n",
    "    max_depth=3,\n",
    "    objective='multi:softmax',\n",
    "    num_class=4, eval_metric='merror'\n",
    ")\n",
    "model.fit(X_train,y_train)"
   ]
  },
  {
   "cell_type": "code",
   "execution_count": 60,
   "metadata": {},
   "outputs": [],
   "source": [
    "# AI Model Prediction\n",
    "ypred_xgb=model.predict(X_test)"
   ]
  },
  {
   "cell_type": "code",
   "execution_count": 61,
   "metadata": {},
   "outputs": [
    {
     "data": {
      "text/plain": [
       "array([1, 1, 1, ..., 1, 3, 1])"
      ]
     },
     "execution_count": 61,
     "metadata": {},
     "output_type": "execute_result"
    }
   ],
   "source": [
    "ypred_xgb"
   ]
  },
  {
   "cell_type": "code",
   "execution_count": 62,
   "metadata": {},
   "outputs": [
    {
     "name": "stdout",
     "output_type": "stream",
     "text": [
      "0.9137472283813747\n"
     ]
    }
   ],
   "source": [
    "\n",
    "# AI Model Accuracy\n",
    "print(accuracy_score(y_test, ypred_xgb))"
   ]
  },
  {
   "cell_type": "code",
   "execution_count": 65,
   "metadata": {},
   "outputs": [],
   "source": [
    "from sklearn.metrics import accuracy_score, confusion_matrix, classification_report # model 평가"
   ]
  },
  {
   "cell_type": "code",
   "execution_count": 66,
   "metadata": {},
   "outputs": [
    {
     "name": "stdout",
     "output_type": "stream",
     "text": [
      "XGBoost Accuracy:  0.9137472283813747\n",
      "\n",
      "\n",
      "              precision    recall  f1-score   support\n",
      "\n",
      "           0       0.92      0.97      0.94     10614\n",
      "           1       0.92      0.97      0.94     28937\n",
      "           2       0.87      0.53      0.66      2989\n",
      "           3       0.89      0.75      0.81      3470\n",
      "           4       0.91      0.79      0.85      3600\n",
      "\n",
      "    accuracy                           0.91     49610\n",
      "   macro avg       0.90      0.80      0.84     49610\n",
      "weighted avg       0.91      0.91      0.91     49610\n",
      "\n"
     ]
    }
   ],
   "source": [
    "acc = accuracy_score(y_test, ypred_xgb)\n",
    "print(\"XGBoost Accuracy: \", acc)\n",
    "print(\"\\n\")\n",
    "con_mat = confusion_matrix(y_test, ypred_xgb)\n",
    "report = classification_report(y_test, ypred_xgb)\n",
    "print(report)"
   ]
  }
 ],
 "metadata": {
  "kernelspec": {
   "display_name": "Python 3.9.7 ('base')",
   "language": "python",
   "name": "python3"
  },
  "language_info": {
   "codemirror_mode": {
    "name": "ipython",
    "version": 3
   },
   "file_extension": ".py",
   "mimetype": "text/x-python",
   "name": "python",
   "nbconvert_exporter": "python",
   "pygments_lexer": "ipython3",
   "version": "3.9.5"
  },
  "orig_nbformat": 4,
  "vscode": {
   "interpreter": {
    "hash": "ad2bdc8ecc057115af97d19610ffacc2b4e99fae6737bb82f5d7fb13d2f2c186"
   }
  }
 },
 "nbformat": 4,
 "nbformat_minor": 2
}
